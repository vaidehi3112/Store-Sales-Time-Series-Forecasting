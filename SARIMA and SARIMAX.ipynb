{
 "cells": [
  {
   "cell_type": "code",
   "execution_count": 34,
   "id": "ba85f979",
   "metadata": {},
   "outputs": [],
   "source": [
    "import pandas as pd\n",
    "import numpy as np\n",
    "%matplotlib inline\n",
    "\n",
    "# Load specific forecasting tools\n",
    "from statsmodels.tsa.statespace.sarimax import SARIMAX\n",
    "\n",
    "# for determining (p,q) orders\n",
    "from statsmodels.graphics.tsaplots import plot_acf,plot_pacf \n",
    "# for ETS Plots\n",
    "from statsmodels.tsa.seasonal import seasonal_decompose\n",
    "# for determining ARIMA orders\n",
    "from pmdarima import auto_arima                              \n",
    "\n",
    "from datetime import datetime\n",
    "from functools import partial\n",
    "\n",
    "# Ignore harmless warnings\n",
    "import warnings\n",
    "warnings.filterwarnings(\"ignore\")"
   ]
  },
  {
   "cell_type": "code",
   "execution_count": 35,
   "id": "0c64535e",
   "metadata": {},
   "outputs": [],
   "source": [
    "train = pd.read_csv(\"/Users/vaidehiparikh/Downloads/IDMP/IDMP Project/store-sales-time-series-forecasting/train.csv\")\n",
    "oil = pd.read_csv(\"/Users/vaidehiparikh/Downloads/IDMP/IDMP Project/store-sales-time-series-forecasting/oil.csv\")\n",
    "holidays = pd.read_csv(\"/Users/vaidehiparikh/Downloads/IDMP/IDMP Project/store-sales-time-series-forecasting/holidays_events.csv\")\n",
    "stores = pd.read_csv(\"/Users/vaidehiparikh/Downloads/IDMP/IDMP Project/store-sales-time-series-forecasting/stores.csv\")"
   ]
  },
  {
   "cell_type": "code",
   "execution_count": 36,
   "id": "5c481074",
   "metadata": {},
   "outputs": [],
   "source": [
    "# Merging the data\n",
    "df = train.merge(oil, on = 'date', how='left')\n",
    "df = df.merge(holidays, on = 'date', how='left')\n",
    "df = df.merge(stores, on = 'store_nbr', how='left')\n",
    "df = df.rename(columns = {\"type_x\" : \"holiday_type\", \n",
    "                                  \"type_y\" : \"store_type\"})"
   ]
  },
  {
   "cell_type": "code",
   "execution_count": 37,
   "id": "82a945d1",
   "metadata": {},
   "outputs": [
    {
     "data": {
      "text/plain": [
       "(3054348, 16)"
      ]
     },
     "execution_count": 37,
     "metadata": {},
     "output_type": "execute_result"
    }
   ],
   "source": [
    "df.shape"
   ]
  },
  {
   "cell_type": "code",
   "execution_count": 38,
   "id": "0f9961a0",
   "metadata": {},
   "outputs": [],
   "source": [
    "# Filtering Data based on family to consider 'Grocery I'\n",
    "df1 = df[df['family'] == 'GROCERY I']"
   ]
  },
  {
   "cell_type": "code",
   "execution_count": 40,
   "id": "aeeac15f",
   "metadata": {},
   "outputs": [],
   "source": [
    "# Converting to date\n",
    "to_datetime_fmt = partial(pd.to_datetime)\n",
    "\n",
    "#performing a group by on date and taking the sum of sales\n",
    "df2 = df1.groupby('date')['sales'].sum()\n",
    "df2=df2.reset_index()"
   ]
  },
  {
   "cell_type": "code",
   "execution_count": 41,
   "id": "8b4f9160",
   "metadata": {},
   "outputs": [
    {
     "data": {
      "text/html": [
       "<div>\n",
       "<style scoped>\n",
       "    .dataframe tbody tr th:only-of-type {\n",
       "        vertical-align: middle;\n",
       "    }\n",
       "\n",
       "    .dataframe tbody tr th {\n",
       "        vertical-align: top;\n",
       "    }\n",
       "\n",
       "    .dataframe thead th {\n",
       "        text-align: right;\n",
       "    }\n",
       "</style>\n",
       "<table border=\"1\" class=\"dataframe\">\n",
       "  <thead>\n",
       "    <tr style=\"text-align: right;\">\n",
       "      <th></th>\n",
       "      <th>date</th>\n",
       "      <th>sales</th>\n",
       "    </tr>\n",
       "  </thead>\n",
       "  <tbody>\n",
       "    <tr>\n",
       "      <th>0</th>\n",
       "      <td>2013-01-01</td>\n",
       "      <td>700.000</td>\n",
       "    </tr>\n",
       "    <tr>\n",
       "      <th>1</th>\n",
       "      <td>2013-01-02</td>\n",
       "      <td>202020.000</td>\n",
       "    </tr>\n",
       "    <tr>\n",
       "      <th>2</th>\n",
       "      <td>2013-01-03</td>\n",
       "      <td>144878.000</td>\n",
       "    </tr>\n",
       "    <tr>\n",
       "      <th>3</th>\n",
       "      <td>2013-01-04</td>\n",
       "      <td>135754.000</td>\n",
       "    </tr>\n",
       "    <tr>\n",
       "      <th>4</th>\n",
       "      <td>2013-01-05</td>\n",
       "      <td>188356.000</td>\n",
       "    </tr>\n",
       "    <tr>\n",
       "      <th>...</th>\n",
       "      <td>...</td>\n",
       "      <td>...</td>\n",
       "    </tr>\n",
       "    <tr>\n",
       "      <th>1679</th>\n",
       "      <td>2017-08-11</td>\n",
       "      <td>238221.922</td>\n",
       "    </tr>\n",
       "    <tr>\n",
       "      <th>1680</th>\n",
       "      <td>2017-08-12</td>\n",
       "      <td>238627.633</td>\n",
       "    </tr>\n",
       "    <tr>\n",
       "      <th>1681</th>\n",
       "      <td>2017-08-13</td>\n",
       "      <td>258442.452</td>\n",
       "    </tr>\n",
       "    <tr>\n",
       "      <th>1682</th>\n",
       "      <td>2017-08-14</td>\n",
       "      <td>225355.694</td>\n",
       "    </tr>\n",
       "    <tr>\n",
       "      <th>1683</th>\n",
       "      <td>2017-08-15</td>\n",
       "      <td>224208.125</td>\n",
       "    </tr>\n",
       "  </tbody>\n",
       "</table>\n",
       "<p>1684 rows × 2 columns</p>\n",
       "</div>"
      ],
      "text/plain": [
       "            date       sales\n",
       "0     2013-01-01     700.000\n",
       "1     2013-01-02  202020.000\n",
       "2     2013-01-03  144878.000\n",
       "3     2013-01-04  135754.000\n",
       "4     2013-01-05  188356.000\n",
       "...          ...         ...\n",
       "1679  2017-08-11  238221.922\n",
       "1680  2017-08-12  238627.633\n",
       "1681  2017-08-13  258442.452\n",
       "1682  2017-08-14  225355.694\n",
       "1683  2017-08-15  224208.125\n",
       "\n",
       "[1684 rows x 2 columns]"
      ]
     },
     "execution_count": 41,
     "metadata": {},
     "output_type": "execute_result"
    }
   ],
   "source": [
    "# Viewing the data\n",
    "df2"
   ]
  },
  {
   "cell_type": "code",
   "execution_count": 42,
   "id": "f32423e6",
   "metadata": {},
   "outputs": [],
   "source": [
    "# Setting the date as the index\n",
    "df.set_index('date',inplace=True)"
   ]
  },
  {
   "cell_type": "code",
   "execution_count": 43,
   "id": "fdacfaf9",
   "metadata": {},
   "outputs": [
    {
     "data": {
      "text/html": [
       "<div>\n",
       "<style scoped>\n",
       "    .dataframe tbody tr th:only-of-type {\n",
       "        vertical-align: middle;\n",
       "    }\n",
       "\n",
       "    .dataframe tbody tr th {\n",
       "        vertical-align: top;\n",
       "    }\n",
       "\n",
       "    .dataframe thead th {\n",
       "        text-align: right;\n",
       "    }\n",
       "</style>\n",
       "<table border=\"1\" class=\"dataframe\">\n",
       "  <thead>\n",
       "    <tr style=\"text-align: right;\">\n",
       "      <th></th>\n",
       "      <th>sales</th>\n",
       "    </tr>\n",
       "    <tr>\n",
       "      <th>date</th>\n",
       "      <th></th>\n",
       "    </tr>\n",
       "  </thead>\n",
       "  <tbody>\n",
       "    <tr>\n",
       "      <th>2013-01-01</th>\n",
       "      <td>700.0</td>\n",
       "    </tr>\n",
       "    <tr>\n",
       "      <th>2013-01-02</th>\n",
       "      <td>202020.0</td>\n",
       "    </tr>\n",
       "    <tr>\n",
       "      <th>2013-01-03</th>\n",
       "      <td>144878.0</td>\n",
       "    </tr>\n",
       "    <tr>\n",
       "      <th>2013-01-04</th>\n",
       "      <td>135754.0</td>\n",
       "    </tr>\n",
       "    <tr>\n",
       "      <th>2013-01-05</th>\n",
       "      <td>188356.0</td>\n",
       "    </tr>\n",
       "  </tbody>\n",
       "</table>\n",
       "</div>"
      ],
      "text/plain": [
       "               sales\n",
       "date                \n",
       "2013-01-01     700.0\n",
       "2013-01-02  202020.0\n",
       "2013-01-03  144878.0\n",
       "2013-01-04  135754.0\n",
       "2013-01-05  188356.0"
      ]
     },
     "execution_count": 43,
     "metadata": {},
     "output_type": "execute_result"
    }
   ],
   "source": [
    "#converting object format to date format\n",
    "df2['date'] = df2['date'].apply(to_datetime_fmt)\n",
    "\n",
    "df2.set_index('date',inplace=True)\n",
    "df2.head()"
   ]
  },
  {
   "cell_type": "code",
   "execution_count": 44,
   "id": "2928a94f",
   "metadata": {},
   "outputs": [
    {
     "data": {
      "image/png": "[encoded data removed]",
      "text/plain": [
       "<Figure size 1152x360 with 1 Axes>"
      ]
     },
     "metadata": {
      "needs_background": "light"
     },
     "output_type": "display_data"
    }
   ],
   "source": [
    "# Visualising the sales trend for Grocery I for each day\n",
    "title='Sales trend for GROCERY I'\n",
    "ylabel='Sales per day'\n",
    "xlabel='' \n",
    "\n",
    "ax = df2['sales'].plot(figsize=(16,5),title=title)\n",
    "ax.autoscale(axis='x',tight=True)\n",
    "ax.set(xlabel=xlabel, ylabel=ylabel);"
   ]
  },
  {
   "cell_type": "code",
   "execution_count": 45,
   "id": "24869261",
   "metadata": {},
   "outputs": [],
   "source": [
    "def mape(Y_actual, y_forecasted):\n",
    "    val = np.mean(np.abs((Y_actual - y_forecasted)/Y_actual))*100\n",
    "    return val"
   ]
  },
  {
   "cell_type": "code",
   "execution_count": 46,
   "id": "ca1a5a2a",
   "metadata": {},
   "outputs": [],
   "source": [
    "from statsmodels.tsa.stattools import adfuller\n",
    "\n",
    "def adf_test(series,title=''):\n",
    "    \"\"\"\n",
    "    Pass in a time series and an optional title, returns an ADF report\n",
    "    \"\"\"\n",
    "    print(f'Augmented Dickey-Fuller Test: {title}')\n",
    "    result = adfuller(series.dropna(),autolag='AIC') # .dropna() handles differenced data\n",
    "    \n",
    "    labels = ['ADF test statistic','p-value','# lags used','# observations']\n",
    "    out = pd.Series(result[0:4],index=labels)\n",
    "\n",
    "    for key,val in result[4].items():\n",
    "        out[f'critical value ({key})']=val\n",
    "        \n",
    "    print(out.to_string())          # .to_string() removes the line \"dtype: float64\"\n",
    "    \n",
    "    if result[1] <= 0.05:\n",
    "        print(\"Strong evidence against the null hypothesis\")\n",
    "        print(\"Reject the null hypothesis\")\n",
    "        print(\"Data has no unit root and is stationary\")\n",
    "    else:\n",
    "        print(\"Weak evidence against the null hypothesis\")\n",
    "        print(\"Fail to reject the null hypothesis\")\n",
    "        print(\"Data has a unit root and is non-stationary\")"
   ]
  },
  {
   "cell_type": "code",
   "execution_count": 47,
   "id": "de477838",
   "metadata": {},
   "outputs": [
    {
     "name": "stdout",
     "output_type": "stream",
     "text": [
      "Augmented Dickey-Fuller Test: \n",
      "ADF test statistic        -4.229222\n",
      "p-value                    0.000588\n",
      "# lags used               22.000000\n",
      "# observations          1661.000000\n",
      "critical value (1%)       -3.434293\n",
      "critical value (5%)       -2.863282\n",
      "critical value (10%)      -2.567697\n",
      "Strong evidence against the null hypothesis\n",
      "Reject the null hypothesis\n",
      "Data has no unit root and is stationary\n"
     ]
    }
   ],
   "source": [
    "adf_test(df2['sales'])"
   ]
  },
  {
   "cell_type": "code",
   "execution_count": 48,
   "id": "3f7cd5d0",
   "metadata": {},
   "outputs": [
    {
     "data": {
      "text/html": [
       "<table class=\"simpletable\">\n",
       "<caption>SARIMAX Results</caption>\n",
       "<tr>\n",
       "  <th>Dep. Variable:</th>                  <td>y</td>                <th>  No. Observations:  </th>    <td>1684</td>   \n",
       "</tr>\n",
       "<tr>\n",
       "  <th>Model:</th>           <td>SARIMAX(5, 1, 3)x(1, 0, [], 12)</td> <th>  Log Likelihood     </th> <td>-20825.930</td>\n",
       "</tr>\n",
       "<tr>\n",
       "  <th>Date:</th>                   <td>Fri, 13 May 2022</td>         <th>  AIC                </th>  <td>41671.860</td>\n",
       "</tr>\n",
       "<tr>\n",
       "  <th>Time:</th>                       <td>16:40:43</td>             <th>  BIC                </th>  <td>41726.143</td>\n",
       "</tr>\n",
       "<tr>\n",
       "  <th>Sample:</th>                         <td>0</td>                <th>  HQIC               </th>  <td>41691.966</td>\n",
       "</tr>\n",
       "<tr>\n",
       "  <th></th>                             <td> - 1684</td>             <th>                     </th>      <td> </td>    \n",
       "</tr>\n",
       "<tr>\n",
       "  <th>Covariance Type:</th>               <td>opg</td>               <th>                     </th>      <td> </td>    \n",
       "</tr>\n",
       "</table>\n",
       "<table class=\"simpletable\">\n",
       "<tr>\n",
       "      <td></td>        <th>coef</th>     <th>std err</th>      <th>z</th>      <th>P>|z|</th>  <th>[0.025</th>    <th>0.975]</th>  \n",
       "</tr>\n",
       "<tr>\n",
       "  <th>ar.L1</th>    <td>    1.5125</td> <td>    0.017</td> <td>   88.346</td> <td> 0.000</td> <td>    1.479</td> <td>    1.546</td>\n",
       "</tr>\n",
       "<tr>\n",
       "  <th>ar.L2</th>    <td>   -1.2963</td> <td>    0.036</td> <td>  -36.029</td> <td> 0.000</td> <td>   -1.367</td> <td>   -1.226</td>\n",
       "</tr>\n",
       "<tr>\n",
       "  <th>ar.L3</th>    <td>    0.4050</td> <td>    0.050</td> <td>    8.121</td> <td> 0.000</td> <td>    0.307</td> <td>    0.503</td>\n",
       "</tr>\n",
       "<tr>\n",
       "  <th>ar.L4</th>    <td>   -0.1882</td> <td>    0.046</td> <td>   -4.095</td> <td> 0.000</td> <td>   -0.278</td> <td>   -0.098</td>\n",
       "</tr>\n",
       "<tr>\n",
       "  <th>ar.L5</th>    <td>    0.1806</td> <td>    0.021</td> <td>    8.733</td> <td> 0.000</td> <td>    0.140</td> <td>    0.221</td>\n",
       "</tr>\n",
       "<tr>\n",
       "  <th>ma.L1</th>    <td>   -2.1866</td> <td>    0.013</td> <td> -169.812</td> <td> 0.000</td> <td>   -2.212</td> <td>   -2.161</td>\n",
       "</tr>\n",
       "<tr>\n",
       "  <th>ma.L2</th>    <td>    2.1181</td> <td>    0.023</td> <td>   93.499</td> <td> 0.000</td> <td>    2.074</td> <td>    2.163</td>\n",
       "</tr>\n",
       "<tr>\n",
       "  <th>ma.L3</th>    <td>   -0.9237</td> <td>    0.012</td> <td>  -76.333</td> <td> 0.000</td> <td>   -0.947</td> <td>   -0.900</td>\n",
       "</tr>\n",
       "<tr>\n",
       "  <th>ar.S.L12</th> <td>   -0.0570</td> <td>    0.029</td> <td>   -1.966</td> <td> 0.049</td> <td>   -0.114</td> <td>   -0.000</td>\n",
       "</tr>\n",
       "<tr>\n",
       "  <th>sigma2</th>   <td> 3.417e+09</td> <td> 1.06e-11</td> <td> 3.22e+20</td> <td> 0.000</td> <td> 3.42e+09</td> <td> 3.42e+09</td>\n",
       "</tr>\n",
       "</table>\n",
       "<table class=\"simpletable\">\n",
       "<tr>\n",
       "  <th>Ljung-Box (L1) (Q):</th>     <td>0.68</td> <th>  Jarque-Bera (JB):  </th> <td>99234.30</td>\n",
       "</tr>\n",
       "<tr>\n",
       "  <th>Prob(Q):</th>                <td>0.41</td> <th>  Prob(JB):          </th>   <td>0.00</td>  \n",
       "</tr>\n",
       "<tr>\n",
       "  <th>Heteroskedasticity (H):</th> <td>3.65</td> <th>  Skew:              </th>   <td>4.22</td>  \n",
       "</tr>\n",
       "<tr>\n",
       "  <th>Prob(H) (two-sided):</th>    <td>0.00</td> <th>  Kurtosis:          </th>   <td>39.66</td> \n",
       "</tr>\n",
       "</table><br/><br/>Warnings:<br/>[1] Covariance matrix calculated using the outer product of gradients (complex-step).<br/>[2] Covariance matrix is singular or near-singular, with condition number 4.97e+35. Standard errors may be unstable."
      ],
      "text/plain": [
       "<class 'statsmodels.iolib.summary.Summary'>\n",
       "\"\"\"\n",
       "                                      SARIMAX Results                                      \n",
       "===========================================================================================\n",
       "Dep. Variable:                                   y   No. Observations:                 1684\n",
       "Model:             SARIMAX(5, 1, 3)x(1, 0, [], 12)   Log Likelihood              -20825.930\n",
       "Date:                             Fri, 13 May 2022   AIC                          41671.860\n",
       "Time:                                     16:40:43   BIC                          41726.143\n",
       "Sample:                                          0   HQIC                         41691.966\n",
       "                                            - 1684                                         \n",
       "Covariance Type:                               opg                                         \n",
       "==============================================================================\n",
       "                 coef    std err          z      P>|z|      [0.025      0.975]\n",
       "------------------------------------------------------------------------------\n",
       "ar.L1          1.5125      0.017     88.346      0.000       1.479       1.546\n",
       "ar.L2         -1.2963      0.036    -36.029      0.000      -1.367      -1.226\n",
       "ar.L3          0.4050      0.050      8.121      0.000       0.307       0.503\n",
       "ar.L4         -0.1882      0.046     -4.095      0.000      -0.278      -0.098\n",
       "ar.L5          0.1806      0.021      8.733      0.000       0.140       0.221\n",
       "ma.L1         -2.1866      0.013   -169.812      0.000      -2.212      -2.161\n",
       "ma.L2          2.1181      0.023     93.499      0.000       2.074       2.163\n",
       "ma.L3         -0.9237      0.012    -76.333      0.000      -0.947      -0.900\n",
       "ar.S.L12      -0.0570      0.029     -1.966      0.049      -0.114      -0.000\n",
       "sigma2      3.417e+09   1.06e-11   3.22e+20      0.000    3.42e+09    3.42e+09\n",
       "===================================================================================\n",
       "Ljung-Box (L1) (Q):                   0.68   Jarque-Bera (JB):             99234.30\n",
       "Prob(Q):                              0.41   Prob(JB):                         0.00\n",
       "Heteroskedasticity (H):               3.65   Skew:                             4.22\n",
       "Prob(H) (two-sided):                  0.00   Kurtosis:                        39.66\n",
       "===================================================================================\n",
       "\n",
       "Warnings:\n",
       "[1] Covariance matrix calculated using the outer product of gradients (complex-step).\n",
       "[2] Covariance matrix is singular or near-singular, with condition number 4.97e+35. Standard errors may be unstable.\n",
       "\"\"\""
      ]
     },
     "execution_count": 48,
     "metadata": {},
     "output_type": "execute_result"
    }
   ],
   "source": [
    "# For SARIMA Orders we set seasonal=True and pass in an m value\n",
    "auto_arima(df2['sales'],seasonal=True,m=12).summary()"
   ]
  },
  {
   "cell_type": "code",
   "execution_count": 49,
   "id": "b52075b3",
   "metadata": {},
   "outputs": [
    {
     "data": {
      "text/html": [
       "<div>\n",
       "<style scoped>\n",
       "    .dataframe tbody tr th:only-of-type {\n",
       "        vertical-align: middle;\n",
       "    }\n",
       "\n",
       "    .dataframe tbody tr th {\n",
       "        vertical-align: top;\n",
       "    }\n",
       "\n",
       "    .dataframe thead th {\n",
       "        text-align: right;\n",
       "    }\n",
       "</style>\n",
       "<table border=\"1\" class=\"dataframe\">\n",
       "  <thead>\n",
       "    <tr style=\"text-align: right;\">\n",
       "      <th></th>\n",
       "      <th>date</th>\n",
       "      <th>sales</th>\n",
       "    </tr>\n",
       "  </thead>\n",
       "  <tbody>\n",
       "    <tr>\n",
       "      <th>0</th>\n",
       "      <td>2013-01-01</td>\n",
       "      <td>700.000</td>\n",
       "    </tr>\n",
       "    <tr>\n",
       "      <th>1</th>\n",
       "      <td>2013-01-02</td>\n",
       "      <td>202020.000</td>\n",
       "    </tr>\n",
       "    <tr>\n",
       "      <th>2</th>\n",
       "      <td>2013-01-03</td>\n",
       "      <td>144878.000</td>\n",
       "    </tr>\n",
       "    <tr>\n",
       "      <th>3</th>\n",
       "      <td>2013-01-04</td>\n",
       "      <td>135754.000</td>\n",
       "    </tr>\n",
       "    <tr>\n",
       "      <th>4</th>\n",
       "      <td>2013-01-05</td>\n",
       "      <td>188356.000</td>\n",
       "    </tr>\n",
       "    <tr>\n",
       "      <th>...</th>\n",
       "      <td>...</td>\n",
       "      <td>...</td>\n",
       "    </tr>\n",
       "    <tr>\n",
       "      <th>1679</th>\n",
       "      <td>2017-08-11</td>\n",
       "      <td>238221.922</td>\n",
       "    </tr>\n",
       "    <tr>\n",
       "      <th>1680</th>\n",
       "      <td>2017-08-12</td>\n",
       "      <td>238627.633</td>\n",
       "    </tr>\n",
       "    <tr>\n",
       "      <th>1681</th>\n",
       "      <td>2017-08-13</td>\n",
       "      <td>258442.452</td>\n",
       "    </tr>\n",
       "    <tr>\n",
       "      <th>1682</th>\n",
       "      <td>2017-08-14</td>\n",
       "      <td>225355.694</td>\n",
       "    </tr>\n",
       "    <tr>\n",
       "      <th>1683</th>\n",
       "      <td>2017-08-15</td>\n",
       "      <td>224208.125</td>\n",
       "    </tr>\n",
       "  </tbody>\n",
       "</table>\n",
       "<p>1684 rows × 2 columns</p>\n",
       "</div>"
      ],
      "text/plain": [
       "           date       sales\n",
       "0    2013-01-01     700.000\n",
       "1    2013-01-02  202020.000\n",
       "2    2013-01-03  144878.000\n",
       "3    2013-01-04  135754.000\n",
       "4    2013-01-05  188356.000\n",
       "...         ...         ...\n",
       "1679 2017-08-11  238221.922\n",
       "1680 2017-08-12  238627.633\n",
       "1681 2017-08-13  258442.452\n",
       "1682 2017-08-14  225355.694\n",
       "1683 2017-08-15  224208.125\n",
       "\n",
       "[1684 rows x 2 columns]"
      ]
     },
     "execution_count": 49,
     "metadata": {},
     "output_type": "execute_result"
    }
   ],
   "source": [
    "df2 = df2.reset_index()\n",
    "df2"
   ]
  },
  {
   "cell_type": "code",
   "execution_count": 50,
   "id": "437ce27a",
   "metadata": {},
   "outputs": [],
   "source": [
    "# Set four weeks for testing\n",
    "train = df2.iloc[:1457]\n",
    "test = df2.iloc[1457:]"
   ]
  },
  {
   "cell_type": "markdown",
   "id": "385c68c3",
   "metadata": {},
   "source": [
    "### SARIMA"
   ]
  },
  {
   "cell_type": "code",
   "execution_count": 52,
   "id": "346f98cb",
   "metadata": {},
   "outputs": [
    {
     "data": {
      "text/html": [
       "<table class=\"simpletable\">\n",
       "<caption>SARIMAX Results</caption>\n",
       "<tr>\n",
       "  <th>Dep. Variable:</th>                  <td>sales</td>                <th>  No. Observations:  </th>    <td>1457</td>   \n",
       "</tr>\n",
       "<tr>\n",
       "  <th>Model:</th>           <td>SARIMAX(1, 0, 1)x(0, 0, [1, 2], 12)</td> <th>  Log Likelihood     </th> <td>-18173.963</td>\n",
       "</tr>\n",
       "<tr>\n",
       "  <th>Date:</th>                     <td>Fri, 13 May 2022</td>           <th>  AIC                </th>  <td>36357.926</td>\n",
       "</tr>\n",
       "<tr>\n",
       "  <th>Time:</th>                         <td>16:41:22</td>               <th>  BIC                </th>  <td>36384.347</td>\n",
       "</tr>\n",
       "<tr>\n",
       "  <th>Sample:</th>                           <td>0</td>                  <th>  HQIC               </th>  <td>36367.783</td>\n",
       "</tr>\n",
       "<tr>\n",
       "  <th></th>                               <td> - 1457</td>               <th>                     </th>      <td> </td>    \n",
       "</tr>\n",
       "<tr>\n",
       "  <th>Covariance Type:</th>                 <td>opg</td>                 <th>                     </th>      <td> </td>    \n",
       "</tr>\n",
       "</table>\n",
       "<table class=\"simpletable\">\n",
       "<tr>\n",
       "      <td></td>        <th>coef</th>     <th>std err</th>      <th>z</th>      <th>P>|z|</th>  <th>[0.025</th>    <th>0.975]</th>  \n",
       "</tr>\n",
       "<tr>\n",
       "  <th>ar.L1</th>    <td>    0.9997</td> <td>    0.000</td> <td> 2104.258</td> <td> 0.000</td> <td>    0.999</td> <td>    1.001</td>\n",
       "</tr>\n",
       "<tr>\n",
       "  <th>ma.L1</th>    <td>   -0.8779</td> <td>    0.009</td> <td>  -92.844</td> <td> 0.000</td> <td>   -0.896</td> <td>   -0.859</td>\n",
       "</tr>\n",
       "<tr>\n",
       "  <th>ma.S.L12</th> <td>   -0.1696</td> <td>    0.029</td> <td>   -5.767</td> <td> 0.000</td> <td>   -0.227</td> <td>   -0.112</td>\n",
       "</tr>\n",
       "<tr>\n",
       "  <th>ma.S.L24</th> <td>   -0.1652</td> <td>    0.027</td> <td>   -6.069</td> <td> 0.000</td> <td>   -0.218</td> <td>   -0.112</td>\n",
       "</tr>\n",
       "<tr>\n",
       "  <th>sigma2</th>   <td> 4.692e+09</td> <td> 1.48e-12</td> <td> 3.16e+21</td> <td> 0.000</td> <td> 4.69e+09</td> <td> 4.69e+09</td>\n",
       "</tr>\n",
       "</table>\n",
       "<table class=\"simpletable\">\n",
       "<tr>\n",
       "  <th>Ljung-Box (L1) (Q):</th>     <td>106.99</td> <th>  Jarque-Bera (JB):  </th> <td>25438.27</td>\n",
       "</tr>\n",
       "<tr>\n",
       "  <th>Prob(Q):</th>                 <td>0.00</td>  <th>  Prob(JB):          </th>   <td>0.00</td>  \n",
       "</tr>\n",
       "<tr>\n",
       "  <th>Heteroskedasticity (H):</th>  <td>3.76</td>  <th>  Skew:              </th>   <td>2.90</td>  \n",
       "</tr>\n",
       "<tr>\n",
       "  <th>Prob(H) (two-sided):</th>     <td>0.00</td>  <th>  Kurtosis:          </th>   <td>22.63</td> \n",
       "</tr>\n",
       "</table><br/><br/>Warnings:<br/>[1] Covariance matrix calculated using the outer product of gradients (complex-step).<br/>[2] Covariance matrix is singular or near-singular, with condition number 1.45e+36. Standard errors may be unstable."
      ],
      "text/plain": [
       "<class 'statsmodels.iolib.summary.Summary'>\n",
       "\"\"\"\n",
       "                                        SARIMAX Results                                        \n",
       "===============================================================================================\n",
       "Dep. Variable:                                   sales   No. Observations:                 1457\n",
       "Model:             SARIMAX(1, 0, 1)x(0, 0, [1, 2], 12)   Log Likelihood              -18173.963\n",
       "Date:                                 Fri, 13 May 2022   AIC                          36357.926\n",
       "Time:                                         16:41:22   BIC                          36384.347\n",
       "Sample:                                              0   HQIC                         36367.783\n",
       "                                                - 1457                                         \n",
       "Covariance Type:                                   opg                                         \n",
       "==============================================================================\n",
       "                 coef    std err          z      P>|z|      [0.025      0.975]\n",
       "------------------------------------------------------------------------------\n",
       "ar.L1          0.9997      0.000   2104.258      0.000       0.999       1.001\n",
       "ma.L1         -0.8779      0.009    -92.844      0.000      -0.896      -0.859\n",
       "ma.S.L12      -0.1696      0.029     -5.767      0.000      -0.227      -0.112\n",
       "ma.S.L24      -0.1652      0.027     -6.069      0.000      -0.218      -0.112\n",
       "sigma2      4.692e+09   1.48e-12   3.16e+21      0.000    4.69e+09    4.69e+09\n",
       "===================================================================================\n",
       "Ljung-Box (L1) (Q):                 106.99   Jarque-Bera (JB):             25438.27\n",
       "Prob(Q):                              0.00   Prob(JB):                         0.00\n",
       "Heteroskedasticity (H):               3.76   Skew:                             2.90\n",
       "Prob(H) (two-sided):                  0.00   Kurtosis:                        22.63\n",
       "===================================================================================\n",
       "\n",
       "Warnings:\n",
       "[1] Covariance matrix calculated using the outer product of gradients (complex-step).\n",
       "[2] Covariance matrix is singular or near-singular, with condition number 1.45e+36. Standard errors may be unstable.\n",
       "\"\"\""
      ]
     },
     "execution_count": 52,
     "metadata": {},
     "output_type": "execute_result"
    }
   ],
   "source": [
    "model = SARIMAX(train['sales'],order=(1,0,1),seasonal_order=(0, 0, [1, 2], 12),enforce_invertibility=False)\n",
    "results = model.fit()\n",
    "results.summary()"
   ]
  },
  {
   "cell_type": "code",
   "execution_count": 53,
   "id": "fe6c0cd5",
   "metadata": {},
   "outputs": [],
   "source": [
    "# Obtain predicted values\n",
    "start=len(train)\n",
    "end=len(train)+len(test)-1\n",
    "test['predictions'] = results.predict(start=start, end=end, dynamic=False).rename('SARIMA Predictions')"
   ]
  },
  {
   "cell_type": "code",
   "execution_count": 55,
   "id": "c593bfca",
   "metadata": {},
   "outputs": [],
   "source": [
    "test = test.set_index('date')"
   ]
  },
  {
   "cell_type": "code",
   "execution_count": 56,
   "id": "7635d0cd",
   "metadata": {},
   "outputs": [
    {
     "data": {
      "text/plain": [
       "[Text(0.5, 0, ''), Text(0, 0.5, 'Visitors per day')]"
      ]
     },
     "execution_count": 56,
     "metadata": {},
     "output_type": "execute_result"
    },
    {
     "data": {
      "image/png": "[encoded data removed]",
      "text/plain": [
       "<Figure size 864x432 with 1 Axes>"
      ]
     },
     "metadata": {
      "needs_background": "light"
     },
     "output_type": "display_data"
    }
   ],
   "source": [
    "# Plot predictions against known values\n",
    "title='Restaurant Visitors'\n",
    "ylabel='Visitors per day'\n",
    "xlabel=''\n",
    "\n",
    "ax = test['sales'].plot(legend=True,figsize=(12,6),title=title)\n",
    "test['predictions'].plot(legend=True)\n",
    "ax.autoscale(axis='x',tight=True)\n",
    "ax.set(xlabel=xlabel, ylabel=ylabel)"
   ]
  },
  {
   "cell_type": "code",
   "execution_count": 57,
   "id": "93222d69",
   "metadata": {},
   "outputs": [
    {
     "name": "stdout",
     "output_type": "stream",
     "text": [
      " MAPE for SARIMAX:  100.44788189628618\n"
     ]
    }
   ],
   "source": [
    "error1 = mape(test['sales'], test['predictions'])\n",
    "\n",
    "print(' MAPE for SARIMAX: ', error1)"
   ]
  },
  {
   "cell_type": "code",
   "execution_count": 58,
   "id": "62ec377e",
   "metadata": {},
   "outputs": [],
   "source": [
    "#performing a group by on date and taking the sum of sales\n",
    "df2 = df1.groupby('date')['sales'].sum()\n",
    "df2=df2.reset_index()"
   ]
  },
  {
   "cell_type": "code",
   "execution_count": 59,
   "id": "4e987a24",
   "metadata": {},
   "outputs": [
    {
     "data": {
      "text/plain": [
       "(1684, 2)"
      ]
     },
     "execution_count": 59,
     "metadata": {},
     "output_type": "execute_result"
    }
   ],
   "source": [
    "df2.shape"
   ]
  },
  {
   "cell_type": "code",
   "execution_count": 60,
   "id": "aa334180",
   "metadata": {},
   "outputs": [
    {
     "data": {
      "text/plain": [
       "(1684, 2)"
      ]
     },
     "execution_count": 60,
     "metadata": {},
     "output_type": "execute_result"
    }
   ],
   "source": [
    "#performing a group by on date and taking the sum of sales\n",
    "df3 = df1.groupby('date')['onpromotion'].mean()\n",
    "df3=df3.reset_index()\n",
    "df3.shape"
   ]
  },
  {
   "cell_type": "code",
   "execution_count": 61,
   "id": "debffc55",
   "metadata": {},
   "outputs": [
    {
     "data": {
      "text/plain": [
       "(1684, 3)"
      ]
     },
     "execution_count": 61,
     "metadata": {},
     "output_type": "execute_result"
    }
   ],
   "source": [
    "df2 = df2.merge(df3, on = 'date', how='left')\n",
    "df2.shape"
   ]
  },
  {
   "cell_type": "code",
   "execution_count": 62,
   "id": "22c26267",
   "metadata": {},
   "outputs": [],
   "source": [
    "# Set four weeks for testing\n",
    "train = df2.iloc[:1457]\n",
    "test = df2.iloc[1457:]"
   ]
  },
  {
   "cell_type": "markdown",
   "id": "89f7741a",
   "metadata": {},
   "source": [
    "### SARIMAX with \"onpromotion\" as exogenous variable"
   ]
  },
  {
   "cell_type": "code",
   "execution_count": 64,
   "id": "909b946e",
   "metadata": {},
   "outputs": [
    {
     "data": {
      "text/html": [
       "<table class=\"simpletable\">\n",
       "<caption>SARIMAX Results</caption>\n",
       "<tr>\n",
       "  <th>Dep. Variable:</th>                  <td>sales</td>                <th>  No. Observations:  </th>    <td>1457</td>   \n",
       "</tr>\n",
       "<tr>\n",
       "  <th>Model:</th>           <td>SARIMAX(1, 1, 1)x(0, 0, [1, 2], 12)</td> <th>  Log Likelihood     </th> <td>-18093.814</td>\n",
       "</tr>\n",
       "<tr>\n",
       "  <th>Date:</th>                     <td>Fri, 13 May 2022</td>           <th>  AIC                </th>  <td>36199.627</td>\n",
       "</tr>\n",
       "<tr>\n",
       "  <th>Time:</th>                         <td>16:42:14</td>               <th>  BIC                </th>  <td>36231.328</td>\n",
       "</tr>\n",
       "<tr>\n",
       "  <th>Sample:</th>                           <td>0</td>                  <th>  HQIC               </th>  <td>36211.455</td>\n",
       "</tr>\n",
       "<tr>\n",
       "  <th></th>                               <td> - 1457</td>               <th>                     </th>      <td> </td>    \n",
       "</tr>\n",
       "<tr>\n",
       "  <th>Covariance Type:</th>                 <td>opg</td>                 <th>                     </th>      <td> </td>    \n",
       "</tr>\n",
       "</table>\n",
       "<table class=\"simpletable\">\n",
       "<tr>\n",
       "       <td></td>          <th>coef</th>     <th>std err</th>      <th>z</th>      <th>P>|z|</th>  <th>[0.025</th>    <th>0.975]</th>  \n",
       "</tr>\n",
       "<tr>\n",
       "  <th>onpromotion</th> <td> 2684.1902</td> <td>  175.239</td> <td>   15.317</td> <td> 0.000</td> <td> 2340.727</td> <td> 3027.653</td>\n",
       "</tr>\n",
       "<tr>\n",
       "  <th>ar.L1</th>       <td>    0.3667</td> <td>    0.020</td> <td>   17.955</td> <td> 0.000</td> <td>    0.327</td> <td>    0.407</td>\n",
       "</tr>\n",
       "<tr>\n",
       "  <th>ma.L1</th>       <td>   -0.9424</td> <td>    0.009</td> <td> -101.585</td> <td> 0.000</td> <td>   -0.961</td> <td>   -0.924</td>\n",
       "</tr>\n",
       "<tr>\n",
       "  <th>ma.S.L12</th>    <td>   -0.1633</td> <td>    0.031</td> <td>   -5.234</td> <td> 0.000</td> <td>   -0.224</td> <td>   -0.102</td>\n",
       "</tr>\n",
       "<tr>\n",
       "  <th>ma.S.L24</th>    <td>   -0.0804</td> <td>    0.036</td> <td>   -2.254</td> <td> 0.024</td> <td>   -0.150</td> <td>   -0.010</td>\n",
       "</tr>\n",
       "<tr>\n",
       "  <th>sigma2</th>      <td> 4.377e+09</td> <td> 2.88e-05</td> <td> 1.52e+14</td> <td> 0.000</td> <td> 4.38e+09</td> <td> 4.38e+09</td>\n",
       "</tr>\n",
       "</table>\n",
       "<table class=\"simpletable\">\n",
       "<tr>\n",
       "  <th>Ljung-Box (L1) (Q):</th>     <td>1.13</td> <th>  Jarque-Bera (JB):  </th> <td>30559.27</td>\n",
       "</tr>\n",
       "<tr>\n",
       "  <th>Prob(Q):</th>                <td>0.29</td> <th>  Prob(JB):          </th>   <td>0.00</td>  \n",
       "</tr>\n",
       "<tr>\n",
       "  <th>Heteroskedasticity (H):</th> <td>3.79</td> <th>  Skew:              </th>   <td>2.90</td>  \n",
       "</tr>\n",
       "<tr>\n",
       "  <th>Prob(H) (two-sided):</th>    <td>0.00</td> <th>  Kurtosis:          </th>   <td>24.68</td> \n",
       "</tr>\n",
       "</table><br/><br/>Warnings:<br/>[1] Covariance matrix calculated using the outer product of gradients (complex-step).<br/>[2] Covariance matrix is singular or near-singular, with condition number 1.58e+29. Standard errors may be unstable."
      ],
      "text/plain": [
       "<class 'statsmodels.iolib.summary.Summary'>\n",
       "\"\"\"\n",
       "                                        SARIMAX Results                                        \n",
       "===============================================================================================\n",
       "Dep. Variable:                                   sales   No. Observations:                 1457\n",
       "Model:             SARIMAX(1, 1, 1)x(0, 0, [1, 2], 12)   Log Likelihood              -18093.814\n",
       "Date:                                 Fri, 13 May 2022   AIC                          36199.627\n",
       "Time:                                         16:42:14   BIC                          36231.328\n",
       "Sample:                                              0   HQIC                         36211.455\n",
       "                                                - 1457                                         \n",
       "Covariance Type:                                   opg                                         \n",
       "===============================================================================\n",
       "                  coef    std err          z      P>|z|      [0.025      0.975]\n",
       "-------------------------------------------------------------------------------\n",
       "onpromotion  2684.1902    175.239     15.317      0.000    2340.727    3027.653\n",
       "ar.L1           0.3667      0.020     17.955      0.000       0.327       0.407\n",
       "ma.L1          -0.9424      0.009   -101.585      0.000      -0.961      -0.924\n",
       "ma.S.L12       -0.1633      0.031     -5.234      0.000      -0.224      -0.102\n",
       "ma.S.L24       -0.0804      0.036     -2.254      0.024      -0.150      -0.010\n",
       "sigma2       4.377e+09   2.88e-05   1.52e+14      0.000    4.38e+09    4.38e+09\n",
       "===================================================================================\n",
       "Ljung-Box (L1) (Q):                   1.13   Jarque-Bera (JB):             30559.27\n",
       "Prob(Q):                              0.29   Prob(JB):                         0.00\n",
       "Heteroskedasticity (H):               3.79   Skew:                             2.90\n",
       "Prob(H) (two-sided):                  0.00   Kurtosis:                        24.68\n",
       "===================================================================================\n",
       "\n",
       "Warnings:\n",
       "[1] Covariance matrix calculated using the outer product of gradients (complex-step).\n",
       "[2] Covariance matrix is singular or near-singular, with condition number 1.58e+29. Standard errors may be unstable.\n",
       "\"\"\""
      ]
     },
     "execution_count": 64,
     "metadata": {},
     "output_type": "execute_result"
    }
   ],
   "source": [
    "model = SARIMAX(train['sales'],exog=train['onpromotion'],order=(1,1,1),seasonal_order=(0, 0, [1, 2], 12),enforce_invertibility=False)\n",
    "results = model.fit()\n",
    "results.summary()"
   ]
  },
  {
   "cell_type": "code",
   "execution_count": 65,
   "id": "1ac10ed1",
   "metadata": {},
   "outputs": [],
   "source": [
    "# Obtain predicted values\n",
    "start=len(train)\n",
    "end=len(train)+len(test)-1\n",
    "exog_forecast = test[['onpromotion']]  # requires two brackets to yield a shape of (35,1)\n",
    "test['predictions'] = results.predict(start=start, end=end, exog=exog_forecast).rename('SARIMAX Predictions')"
   ]
  },
  {
   "cell_type": "code",
   "execution_count": 66,
   "id": "d51235bd",
   "metadata": {},
   "outputs": [],
   "source": [
    "test = test.set_index('date')"
   ]
  },
  {
   "cell_type": "code",
   "execution_count": 67,
   "id": "bed90149",
   "metadata": {
    "scrolled": false
   },
   "outputs": [
    {
     "data": {
      "text/plain": [
       "[Text(0.5, 0, ''), Text(0, 0.5, 'Visitors per day')]"
      ]
     },
     "execution_count": 67,
     "metadata": {},
     "output_type": "execute_result"
    },
    {
     "data": {
      "image/png": "[encoded data removed]",
      "text/plain": [
       "<Figure size 864x432 with 1 Axes>"
      ]
     },
     "metadata": {
      "needs_background": "light"
     },
     "output_type": "display_data"
    }
   ],
   "source": [
    "# Plot predictions against known values\n",
    "title='Restaurant Visitors'\n",
    "ylabel='Visitors per day'\n",
    "xlabel=''\n",
    "\n",
    "ax = test['sales'].plot(legend=True,figsize=(12,6),title=title)\n",
    "test['predictions'].plot(legend=True)\n",
    "ax.autoscale(axis='x',tight=True)\n",
    "ax.set(xlabel=xlabel, ylabel=ylabel)"
   ]
  },
  {
   "cell_type": "code",
   "execution_count": 68,
   "id": "197b5b3d",
   "metadata": {},
   "outputs": [
    {
     "name": "stdout",
     "output_type": "stream",
     "text": [
      " MAPE for SARIMAX:  37.93110236906045\n"
     ]
    }
   ],
   "source": [
    "# Evaluating the model\n",
    "error3 = mape(test['sales'], test['predictions'])\n",
    "\n",
    "print(' MAPE for SARIMAX: ', error3)"
   ]
  },
  {
   "cell_type": "code",
   "execution_count": null,
   "id": "7ab08b9a",
   "metadata": {},
   "outputs": [],
   "source": []
  }
 ],
 "metadata": {
  "kernelspec": {
   "display_name": "Python 3",
   "language": "python",
   "name": "python3"
  },
  "language_info": {
   "codemirror_mode": {
    "name": "ipython",
    "version": 3
   },
   "file_extension": ".py",
   "mimetype": "text/x-python",
   "name": "python",
   "nbconvert_exporter": "python",
   "pygments_lexer": "ipython3",
   "version": "3.8.8"
  }
 },
 "nbformat": 4,
 "nbformat_minor": 5
}
